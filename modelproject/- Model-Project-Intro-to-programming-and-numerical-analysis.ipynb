{
 "cells": [
  {
   "cell_type": "markdown",
   "metadata": {},
   "source": [
    "# Model Project"
   ]
  },
  {
   "cell_type": "markdown",
   "metadata": {},
   "source": [
    "### In the following model project, we will solve the Solow model for a small open economy. Going from a closed economy to an open economy entails opening up to free capital flows from abroad, which in effect means that savings are no longer, as in the closed economy, equal to investments. We will extend the model to include a risk parameter, epsilon, to acocunt for country risk."
   ]
  },
  {
   "cell_type": "markdown",
   "metadata": {},
   "source": [
    "#### First, we import the packages we will need to set up and solve our model. "
   ]
  },
  {
   "cell_type": "code",
   "execution_count": 106,
   "metadata": {},
   "outputs": [
    {
     "name": "stdout",
     "output_type": "stream",
     "text": [
      "The autoreload extension is already loaded. To reload it, use:\n",
      "  %reload_ext autoreload\n"
     ]
    }
   ],
   "source": [
    "import numpy as np\n",
    "import matplotlib.pyplot as plt\n",
    "import ipywidgets as widgets\n",
    "import time\n",
    "from scipy import linalg\n",
    "from scipy import optimize\n",
    "import sympy as sm\n",
    "\n",
    "# local module for linear algebra\n",
    "%load_ext autoreload\n",
    "%autoreload 2\n",
    "#import numecon_linalg"
   ]
  },
  {
   "cell_type": "markdown",
   "metadata": {},
   "source": [
    "##### We will use pretty print so that our functions are readable when we output results"
   ]
  },
  {
   "cell_type": "code",
   "execution_count": 107,
   "metadata": {},
   "outputs": [],
   "source": [
    "sm.init_printing(use_unicode=True) "
   ]
  },
  {
   "cell_type": "markdown",
   "metadata": {},
   "source": [
    "## Setting up the model"
   ]
  },
  {
   "cell_type": "markdown",
   "metadata": {},
   "source": [
    "We consider the **Solow-model for the small open economy** where*:\n",
    "\n",
    "1. $V_t$ is national wealth\n",
    "2. $L_t$ is the labor force, which grows according to $L_{t+1} = (1 + n)L_t$, $L_0$ given\n",
    "3. $K_t$ is capital\n",
    "\n",
    "**National Wealth** is given as the sum of GDP and the return to net foreign assets\n",
    "\n",
    "$$ V_t = K_t + F_t $$\n",
    "\n",
    "and accumulates according to \n",
    "\n",
    "$$ V_{t+1} - V_t = S_t $$\n",
    "\n",
    "**Savings** is a constant fraction of national income\n",
    "\n",
    "$$ S_t = sYn_t  $$\n",
    "\n",
    "such that **national wealth accumulates** according to\n",
    "\n",
    "$$ V_{t+1} = \\frac{1}{1+n}(v_t + sy_t^n) $$\n",
    "\n",
    "The **production function** is assumed to be Cobb-Douglas with **constant-return to scale** \n",
    "\n",
    "$$ Y_t = BK_t^{\\alpha}L_t^{1-\\alpha} $$\n",
    "\n",
    "such that the **transition equation** is\n",
    "\n",
    "$$ V_{t+1} = \\frac{1 + s\\bar{r}}{1+n}V_t + \\frac{sw^*}{1+n} $$\n",
    "\n",
    "\n",
    "(*) Source: \"Introducing Advanced Macroeconomics - Growth and Business Cycles\" 2nd edition, Peter Birch Sørensen and Hans Jørgen Whitta-Jacobsen, 2010, McGraw-Hill Higher Education"
   ]
  },
  {
   "cell_type": "markdown",
   "metadata": {},
   "source": [
    "#### We define the symbols:\n",
    "\n",
    "##### We define the per capita variables of GDP, capital, national income, national wealth and foreign net assets, savings, world interest rate, TFP, labor, wages and population growth and a country risk parameter that we will use in the extension of the model."
   ]
  },
  {
   "cell_type": "code",
   "execution_count": 215,
   "metadata": {},
   "outputs": [],
   "source": [
    "# National wealth in period t and period t+1\n",
    "Vt = sm.symbols('V_t')\n",
    "Vt_1 = sm.symbols('V_t+1')\n",
    "vt = sm.symbols('v_t')\n",
    "vt_1 = sm.symbols('v_t+1')\n",
    "\n",
    "# Net Foreign Assets\n",
    "Ft = sm.symbols('F_t')\n",
    "Ft_1 = sm.symbols('F_t+1')\n",
    "ft = sm.symbols('f_t')\n",
    "\n",
    "# Savings\n",
    "St = sm.symbols('S_t')\n",
    "s = sm.symbols('s')\n",
    "\n",
    "# Capital stock in period t\n",
    "Kt = sm.symbols('K_t')\n",
    "Kt_1 = sm.symbols('K_t+1')\n",
    "kt = sm.symbols('k_t')\n",
    "\n",
    "# National income\n",
    "Ytn = sm.symbols('Y_t_n')\n",
    "ytn = sm.symbols('y_t_n')\n",
    "\n",
    "# Gross domestic product\n",
    "Yt = sm.symbols('Y_t_n')\n",
    "yt = sm.symbols('y_t')\n",
    "\n",
    "# The world real interest rate\n",
    "r = sm.symbols('r_bar')\n",
    "epsilon = sm.symbols('epsilon')\n",
    "\n",
    "# Productivity/Technology\n",
    "B = sm.symbols('B')\n",
    "\n",
    "# Labor\n",
    "Lt = sm.symbols('L_t')\n",
    "Lt_1 = sm.symbols('L_t+1')\n",
    "\n",
    "# alpha - return to capital\n",
    "alpha = sm.symbols('alpha')\n",
    "\n",
    "# Wages\n",
    "wt = sm.symbols('w_t')\n",
    "\n",
    "# Population growth\n",
    "n = sm.symbols('n')\n",
    "\n",
    "# Country risk parameter, epsilon\n",
    "\n",
    "e = sm.symbols('epsilon')\n",
    "\n"
   ]
  },
  {
   "cell_type": "markdown",
   "metadata": {},
   "source": [
    "##### We define national income as GDP plus returns on foreign net assets (at the world interest rate) because we have free capital flow in the model"
   ]
  },
  {
   "cell_type": "code",
   "execution_count": 109,
   "metadata": {},
   "outputs": [
    {
     "data": {
      "image/png": "[encoded data removed]",
      "text/latex": [
       "$$F_{t} r_{bar} + Y_{t n}$$"
      ],
      "text/plain": [
       "Fₜ⋅r_bar + Yₜ ₙ"
      ]
     },
     "execution_count": 109,
     "metadata": {},
     "output_type": "execute_result"
    }
   ],
   "source": [
    "Ytn = Yt + r*Ft\n",
    "Ytn"
   ]
  },
  {
   "cell_type": "code",
   "execution_count": 105,
   "metadata": {},
   "outputs": [],
   "source": [
    "# vt = kt + ft\n",
    "# vt"
   ]
  },
  {
   "cell_type": "markdown",
   "metadata": {},
   "source": [
    "##### Consequently, savings will be defined as national income at the current savings rate"
   ]
  },
  {
   "cell_type": "code",
   "execution_count": 110,
   "metadata": {},
   "outputs": [
    {
     "data": {
      "image/png": "[encoded data removed]",
      "text/latex": [
       "$$s \\left(F_{t} r_{bar} + Y_{t n}\\right)$$"
      ],
      "text/plain": [
       "s⋅(Fₜ⋅r_bar + Yₜ ₙ)"
      ]
     },
     "execution_count": 110,
     "metadata": {},
     "output_type": "execute_result"
    }
   ],
   "source": [
    "St = s*Ytn\n",
    "St"
   ]
  },
  {
   "cell_type": "markdown",
   "metadata": {},
   "source": [
    "##### A Cobb-Douglas production function will be determining how aggregate output is produced"
   ]
  },
  {
   "cell_type": "code",
   "execution_count": 111,
   "metadata": {},
   "outputs": [
    {
     "data": {
      "image/png": "[encoded data removed]",
      "text/latex": [
       "$$B K_{t}^{\\alpha} L_{t}^{- \\alpha + 1}$$"
      ],
      "text/plain": [
       "    α   -α + 1\n",
       "B⋅Kₜ ⋅Lₜ      "
      ]
     },
     "execution_count": 111,
     "metadata": {},
     "output_type": "execute_result"
    }
   ],
   "source": [
    "Yt = B*Kt**alpha*Lt**(1-alpha)\n",
    "Yt"
   ]
  },
  {
   "cell_type": "markdown",
   "metadata": {},
   "source": [
    "##### Labor input grows from period to the next in accordance with population growth, n."
   ]
  },
  {
   "cell_type": "code",
   "execution_count": 112,
   "metadata": {},
   "outputs": [
    {
     "data": {
      "image/png": "[encoded data removed]",
      "text/latex": [
       "$$L_{t} \\left(n + 1\\right)$$"
      ],
      "text/plain": [
       "Lₜ⋅(n + 1)"
      ]
     },
     "execution_count": 112,
     "metadata": {},
     "output_type": "execute_result"
    }
   ],
   "source": [
    "Lt_1 = (1+n)*Lt\n",
    "Lt_1"
   ]
  },
  {
   "cell_type": "markdown",
   "metadata": {},
   "source": [
    "### Marginal product of capital\n"
   ]
  },
  {
   "cell_type": "markdown",
   "metadata": {},
   "source": [
    "##### We first define output per capita, yt."
   ]
  },
  {
   "cell_type": "code",
   "execution_count": 113,
   "metadata": {},
   "outputs": [
    {
     "data": {
      "image/png": "[encoded data removed]",
      "text/latex": [
       "$$B k_{t}^{\\alpha} = 0$$"
      ],
      "text/plain": [
       "    α    \n",
       "B⋅kₜ  = 0"
      ]
     },
     "execution_count": 113,
     "metadata": {},
     "output_type": "execute_result"
    }
   ],
   "source": [
    "yt = sm.Eq(B*kt**(alpha))\n",
    "yt"
   ]
  },
  {
   "cell_type": "markdown",
   "metadata": {},
   "source": [
    "##### Differentiate wrt. kt "
   ]
  },
  {
   "cell_type": "code",
   "execution_count": 114,
   "metadata": {},
   "outputs": [
    {
     "data": {
      "image/png": "[encoded data removed]",
      "text/latex": [
       "$$\\frac{B \\alpha k_{t}^{\\alpha}}{k_{t}}$$"
      ],
      "text/plain": [
       "      α\n",
       "B⋅α⋅kₜ \n",
       "───────\n",
       "   kₜ  "
      ]
     },
     "execution_count": 114,
     "metadata": {},
     "output_type": "execute_result"
    }
   ],
   "source": [
    "dydk = sm.diff(B*kt**(alpha), kt)\n",
    "# dydk = sm.diff(yt, kt)\n",
    "dydk"
   ]
  },
  {
   "cell_type": "markdown",
   "metadata": {},
   "source": [
    "The MPK is therefore"
   ]
  },
  {
   "cell_type": "code",
   "execution_count": 115,
   "metadata": {},
   "outputs": [
    {
     "data": {
      "image/png": "[encoded data removed]",
      "text/latex": [
       "$$B \\alpha k_{t}^{\\alpha - 1}$$"
      ],
      "text/plain": [
       "      α - 1\n",
       "B⋅α⋅kₜ     "
      ]
     },
     "execution_count": 115,
     "metadata": {},
     "output_type": "execute_result"
    }
   ],
   "source": [
    "MPK=B*(alpha)*kt**((alpha)-1)\n",
    "MPK"
   ]
  },
  {
   "cell_type": "markdown",
   "metadata": {},
   "source": [
    "##### Let's define a Marginal Product of Capital function where we can input an alpha and B of our choice."
   ]
  },
  {
   "cell_type": "code",
   "execution_count": 116,
   "metadata": {},
   "outputs": [],
   "source": [
    "def marginal_product_capital(alpha=0.3, B=1):\n",
    "    yt = B*kt**(alpha)\n",
    "    dydk = sm.diff(yt,kt)\n",
    "    #MPK = sm.solve((yt, 0), kt)\n",
    "    #MPK = sm.solve(yt, kt)[0]\n",
    "    return dydk\n",
    "    "
   ]
  },
  {
   "cell_type": "code",
   "execution_count": 117,
   "metadata": {},
   "outputs": [
    {
     "data": {
      "image/png": "[encoded data removed]",
      "text/latex": [
       "$$\\frac{0.3}{k_{t}^{0.7}}$$"
      ],
      "text/plain": [
       "      -0.7\n",
       "0.3⋅kₜ    "
      ]
     },
     "execution_count": 117,
     "metadata": {},
     "output_type": "execute_result"
    }
   ],
   "source": [
    "marginal_product_capital()  "
   ]
  },
  {
   "cell_type": "markdown",
   "metadata": {},
   "source": [
    "##### In each period, the marginal product of capital will adjust to equal the world interest rate r. \n",
    "##### We define this interest rate as a function of parameters below."
   ]
  },
  {
   "cell_type": "code",
   "execution_count": 118,
   "metadata": {},
   "outputs": [],
   "source": [
    "def world_interest_rate(alpha, B, kt):\n",
    "    r = alpha*B*kt**(alpha-1)  ##This should be the result of our differentiating above!\n",
    "    return r"
   ]
  },
  {
   "cell_type": "code",
   "execution_count": 119,
   "metadata": {},
   "outputs": [
    {
     "data": {
      "image/png": "[encoded data removed]",
      "text/latex": [
       "$$1.5035617008818165$$"
      ],
      "text/plain": [
       "1.5035617008818165"
      ]
     },
     "execution_count": 119,
     "metadata": {},
     "output_type": "execute_result"
    }
   ],
   "source": [
    "world_interest_rate(0.3, 1, 0.1)"
   ]
  },
  {
   "cell_type": "markdown",
   "metadata": {},
   "source": [
    "## Solving the model"
   ]
  },
  {
   "cell_type": "markdown",
   "metadata": {},
   "source": [
    "##### We are all set and can solve our model in a few simple steps. We'll start by finding the steady state of wealth, vt, and call it v*. "
   ]
  },
  {
   "cell_type": "code",
   "execution_count": 120,
   "metadata": {},
   "outputs": [],
   "source": [
    "r_bar = sm.Eq(alpha*B*kt**(alpha-1)-r,0)\n",
    "    #OR\n",
    "#r = alpha*B*kt**(alpha-1)"
   ]
  },
  {
   "cell_type": "markdown",
   "metadata": {},
   "source": [
    "#### Define the transition equation "
   ]
  },
  {
   "cell_type": "code",
   "execution_count": 121,
   "metadata": {},
   "outputs": [
    {
     "data": {
      "image/png": "[encoded data removed]",
      "text/latex": [
       "$$\\frac{s w_{t}}{n + 1} + \\frac{v_{t} \\left(r_{bar} s + 1\\right)}{n + 1}$$"
      ],
      "text/plain": [
       " s⋅wₜ   vₜ⋅(r_bar⋅s + 1)\n",
       "───── + ────────────────\n",
       "n + 1        n + 1      "
      ]
     },
     "execution_count": 121,
     "metadata": {},
     "output_type": "execute_result"
    }
   ],
   "source": [
    "vt_1 = (1+s*r)/(1+n)*vt + (s*wt)/(1+n)\n",
    "vt_1"
   ]
  },
  {
   "cell_type": "markdown",
   "metadata": {},
   "source": [
    "#### Find steady state in the open economy, v*"
   ]
  },
  {
   "cell_type": "code",
   "execution_count": 122,
   "metadata": {},
   "outputs": [
    {
     "data": {
      "image/png": "[encoded data removed]",
      "text/latex": [
       "$$\\frac{s w_{t}}{n + 1} + \\frac{v_{t} \\left(r_{bar} s + 1\\right)}{n + 1}$$"
      ],
      "text/plain": [
       " s⋅wₜ   vₜ⋅(r_bar⋅s + 1)\n",
       "───── + ────────────────\n",
       "n + 1        n + 1      "
      ]
     },
     "execution_count": 122,
     "metadata": {},
     "output_type": "execute_result"
    }
   ],
   "source": [
    "steadystate = (1+s*r)/(1+n)*vt + (s*wt)/(1+n)\n",
    "steadystate"
   ]
  },
  {
   "cell_type": "markdown",
   "metadata": {},
   "source": [
    "#### Solve for vt"
   ]
  },
  {
   "cell_type": "code",
   "execution_count": 123,
   "metadata": {},
   "outputs": [
    {
     "data": {
      "image/png": "[encoded data removed]",
      "text/latex": [
       "$$\\left \\{ v_{t} : - \\frac{s w_{t}}{r_{bar} s + 1}\\right \\}$$"
      ],
      "text/plain": [
       "⎧       -s⋅wₜ   ⎫\n",
       "⎨vₜ: ───────────⎬\n",
       "⎩    r_bar⋅s + 1⎭"
      ]
     },
     "execution_count": 123,
     "metadata": {},
     "output_type": "execute_result"
    }
   ],
   "source": [
    "v_star = sm.solve((steadystate, 0), vt)\n",
    "v_star"
   ]
  },
  {
   "cell_type": "code",
   "execution_count": 125,
   "metadata": {},
   "outputs": [
    {
     "data": {
      "image/png": "[encoded data removed]",
      "text/latex": [
       "$$\\left [ - \\frac{s w_{t}}{r_{bar} s + 1}\\right ]$$"
      ],
      "text/plain": [
       "⎡   -s⋅wₜ   ⎤\n",
       "⎢───────────⎥\n",
       "⎣r_bar⋅s + 1⎦"
      ]
     },
     "execution_count": 125,
     "metadata": {},
     "output_type": "execute_result"
    }
   ],
   "source": [
    "v_star = sm.solve(steadystate, vt)\n",
    "v_star"
   ]
  },
  {
   "cell_type": "code",
   "execution_count": 126,
   "metadata": {},
   "outputs": [],
   "source": [
    "def find_v_star(s, r, n, wt, kt, alpha, B):\n",
    "\n",
    "    r_bar = alpha*B*kt**(alpha-1)  ##This should be the result of our differentiating above!\n",
    "    \n",
    "    w_star = (1-alpha)*B**(1/(1-alpha))*(alpha/r)**(alpha/(1-alpha))\n",
    "    \n",
    "    steadystate = (1+s*r_bar)/(1+n)*vt + (s*w_star)/(1+n)\n",
    "    v_star = sm.solve((steadystate, 0), vt)\n",
    "    return v_star\n"
   ]
  },
  {
   "cell_type": "code",
   "execution_count": 127,
   "metadata": {},
   "outputs": [
    {
     "data": {
      "image/png": "[encoded data removed]",
      "text/latex": [
       "$$\\left \\{ v_{t} : -0.0704159105521999\\right \\}$$"
      ],
      "text/plain": [
       "{vₜ: -0.0704159105521999}"
      ]
     },
     "execution_count": 127,
     "metadata": {},
     "output_type": "execute_result"
    }
   ],
   "source": [
    "find_v_star(0.2, 0.03, 0.01, 1, 0.6, 0.33, 0.3)"
   ]
  },
  {
   "cell_type": "markdown",
   "metadata": {},
   "source": [
    "#### Finding the steady state numerically using scipy"
   ]
  },
  {
   "cell_type": "code",
   "execution_count": 128,
   "metadata": {},
   "outputs": [],
   "source": [
    "# s = 0.2\n",
    "# r = 0.03\n",
    "# n = 0.01\n",
    "# wt = 1\n",
    "# alpha = 0.33\n",
    "# B = 0.3"
   ]
  },
  {
   "cell_type": "code",
   "execution_count": 229,
   "metadata": {},
   "outputs": [],
   "source": [
    "# f = lambda kt: kt**alpha\n",
    "# obj_vstar = lambda v_star: v_star - (1 + s*r_bar)/(1+n)*f + (s*w_star)/(1+n)\n",
    "# result = optimize.root_scalar(obj_vstar, bracket=[0.1,100],method='brentq')"
   ]
  },
  {
   "cell_type": "markdown",
   "metadata": {},
   "source": [
    "#### Visualizing the Solow Model for the small open economy\n",
    "\n",
    "##### We define the equilibirum wage and the world interest rate\n",
    "\n"
   ]
  },
  {
   "cell_type": "code",
   "execution_count": 227,
   "metadata": {},
   "outputs": [],
   "source": [
    "w_star = (1-alpha)*B**(1/(1-alpha))*(alpha/r)**(alpha/(1-alpha))\n",
    "    \n",
    "r_bar = alpha*B*kt**(alpha-1) "
   ]
  },
  {
   "cell_type": "markdown",
   "metadata": {},
   "source": [
    "##### We graph the convergence to steady state in a standard transistion diagram"
   ]
  },
  {
   "cell_type": "code",
   "execution_count": 156,
   "metadata": {},
   "outputs": [],
   "source": [
    "## Defining our model for the transistion diagram\n",
    "\n",
    "def plot_transition(s,r_bar,n,w_star,vt,v_star,t):\n",
    "\n",
    "    ## Create the 45-degree line along which wealth accumulation is constant, i.e. v_t+1 = v_t\n",
    "\n",
    "    fortyfive = [0] # container for storage\n",
    "    \n",
    "    for i in range(1,t):\n",
    "        const_wealth = v_star\n",
    "        fortyfive.append(const_wealth)\n",
    "    \n",
    "    ## Create the transistion equation\n",
    "    \n",
    "    transition = [vt] # container for transistion equation\n",
    "    \n",
    "    for i in range(1,t):\n",
    "        trans = (1 + s*r_bar)/(1+n)*vt + (s*w_star)/(1+n)\n",
    "        transition.append(trans)\n",
    "    \n",
    "    ## Plotting the transistion diagram\n",
    "    plt.figure(figsize=(10,10))\n",
    "    plt.plot(transition[:t],label='transition eq.')\n",
    "    plt.plot(fortyfive[:t],label='v_t+1 = v_t')\n",
    "    \n",
    "    plt.xlim(0,t) #x-axis\n",
    "    plt.ylim(0,fortyfive[-1])\n",
    "    plt.xlabel('$v_t$')\n",
    "    plt.ylabel('$v_{t+1}$')\n",
    "    \n",
    "    plt.grid(True)\n",
    "    plt.legend()\n",
    "    \n",
    "    return plt.show()\n"
   ]
  },
  {
   "cell_type": "code",
   "execution_count": 205,
   "metadata": {},
   "outputs": [
    {
     "data": {
      "image/png": "[encoded data removed]",
      "text/plain": [
       "<Figure size 720x720 with 1 Axes>"
      ]
     },
     "metadata": {
      "needs_background": "light"
     },
     "output_type": "display_data"
    }
   ],
   "source": [
    "plot_transition(0.2, 0.03, 0.01, 1, 0.09, 0.55, 2)"
   ]
  },
  {
   "cell_type": "markdown",
   "metadata": {},
   "source": [
    "#### Model extension: introducing country risk"
   ]
  },
  {
   "cell_type": "code",
   "execution_count": 76,
   "metadata": {},
   "outputs": [],
   "source": [
    "def v_star_risk(s, r, n, wt, kt, alpha, B, epsilon):\n",
    "\n",
    "    r_bar = alpha*B*kt**(alpha-1) + epsilon  ##This should be the result of our differentiating above!\n",
    "    \n",
    "    w_star = (1-alpha)*B**(1/(1-alpha))*(alpha/r)**(alpha/(1-alpha))\n",
    "    \n",
    "    steadystate = (1+s*r_bar)/(1+n)*vt + (s*w_star)/(1+n)\n",
    "    v_star = sm.solve((steadystate, 0), vt)\n",
    "    return v_star\n"
   ]
  },
  {
   "cell_type": "code",
   "execution_count": 93,
   "metadata": {},
   "outputs": [
    {
     "data": {
      "image/png": "[encoded data removed]",
      "text/latex": [
       "$$\\left \\{ v_{t} : -0.0222613761040524\\right \\}$$"
      ],
      "text/plain": [
       "{vₜ: -0.0222613761040524}"
      ]
     },
     "execution_count": 93,
     "metadata": {},
     "output_type": "execute_result"
    }
   ],
   "source": [
    "v_star_risk(1,0.03,0.2,0.5, 0.1, 0.33, 0.1, 2)"
   ]
  },
  {
   "cell_type": "markdown",
   "metadata": {},
   "source": [
    "#### Define different values for the risk parameter to explore how the steady state changes\n",
    "#### (numerical optimization)"
   ]
  },
  {
   "cell_type": "code",
   "execution_count": 83,
   "metadata": {},
   "outputs": [],
   "source": [
    "# risk_parameters = [-0.5, 0.01, 0.1, 0.25, 0.5, 0.9]"
   ]
  },
  {
   "cell_type": "code",
   "execution_count": 225,
   "metadata": {},
   "outputs": [],
   "source": [
    "# for risk in risk_parameters:\n",
    "    \n",
    "# f = lambda v: (alpha*B*kt**(alpha-1) + epsilon)\n",
    "# obj_v_star_risk = lambda v_star_risk: v_star_risk-((1+s*r)/(1+n)*v_star_risk + (s*wt)/(1+n))\n",
    "# result = optimize.root_scalar(obj_v_star_risk, bracket=[0.1,100], method='brentq')\n",
    "# print(f'for risk = {risk:.3f} the steady state for k is', result.root)"
   ]
  },
  {
   "cell_type": "markdown",
   "metadata": {},
   "source": [
    "#### Define the world interest rate with country risk, epsilon\n"
   ]
  },
  {
   "cell_type": "code",
   "execution_count": 220,
   "metadata": {},
   "outputs": [],
   "source": [
    "epsilon = e\n"
   ]
  },
  {
   "cell_type": "code",
   "execution_count": 222,
   "metadata": {},
   "outputs": [],
   "source": [
    "## Defining our model for the transistion diagram\n",
    "\n",
    "def plot_transition_risk(s,r_bar,epsilon,n,w_star,vt,v_star,t):\n",
    "\n",
    "    ## Create the 45-degree line along which wealth accumulation is constant, i.e. v_t+1 = v_t\n",
    "\n",
    "    fortyfive = [0] # container for storage\n",
    "    \n",
    "    for i in range(1,t):\n",
    "        const_wealth = v_star\n",
    "        fortyfive.append(const_wealth)\n",
    "    \n",
    "    ## Create the transistion equation\n",
    "    \n",
    "    transition = [vt] # container for transistion equation\n",
    "    \n",
    "    for i in range(1,t):\n",
    "        trans = (1 + s*(r_bar+epsilon))/(1+n)*vt + (s*w_star)/(1+n)\n",
    "        transition.append(trans)\n",
    "    \n",
    "    ## Plotting the transistion diagram\n",
    "    plt.figure(figsize=(10,10))\n",
    "    plt.plot(transition[:t],label='transition eq.')\n",
    "    plt.plot(fortyfive[:t],label='v_t+1 = v_t')\n",
    "    \n",
    "    plt.xlim(0,t) #x-axis\n",
    "    plt.ylim(0,fortyfive[-1])\n",
    "    plt.xlabel('$v_t$')\n",
    "    plt.ylabel('$v_{t+1}$')\n",
    "    \n",
    "    plt.grid(True)\n",
    "    plt.legend()\n",
    "    \n",
    "    return plt.show()\n"
   ]
  },
  {
   "cell_type": "markdown",
   "metadata": {},
   "source": [
    "#### The plot below shows the difference in convergence to the steady state of national wealth when including a \n",
    "#### parameter for country risk. We have not included uncertainty in the model, thus, higher country risk results\n",
    "#### in higher national wealth. In reality a higher potential return resulting from higher country risk \n",
    "#### should come with a greater possibillity of negative return and/or loss.  "
   ]
  },
  {
   "cell_type": "code",
   "execution_count": 223,
   "metadata": {},
   "outputs": [
    {
     "data": {
      "image/png": "[encoded data removed]",
      "text/plain": [
       "<Figure size 720x720 with 1 Axes>"
      ]
     },
     "metadata": {
      "needs_background": "light"
     },
     "output_type": "display_data"
    }
   ],
   "source": [
    "plot_transition_risk(0.2, 0.03, 0.05, 0.01, 0.99, 0.2, 0.55, 2)"
   ]
  }
 ],
 "metadata": {
  "kernelspec": {
   "display_name": "Python 3",
   "language": "python",
   "name": "python3"
  },
  "language_info": {
   "codemirror_mode": {
    "name": "ipython",
    "version": 3
   },
   "file_extension": ".py",
   "mimetype": "text/x-python",
   "name": "python",
   "nbconvert_exporter": "python",
   "pygments_lexer": "ipython3",
   "version": "3.7.1"
  }
 },
 "nbformat": 4,
 "nbformat_minor": 2
}
